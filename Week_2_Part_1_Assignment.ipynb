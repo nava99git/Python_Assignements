{
  "nbformat": 4,
  "nbformat_minor": 0,
  "metadata": {
    "colab": {
      "name": "Week 2 Part 1 Assignment.ipynb",
      "version": "0.3.2",
      "provenance": [],
      "collapsed_sections": []
    },
    "kernelspec": {
      "name": "python3",
      "display_name": "Python 3"
    }
  },
  "cells": [
    {
      "metadata": {
        "id": "p0m9LbIveuis",
        "colab_type": "text"
      },
      "cell_type": "markdown",
      "source": [
        "# Week 2 Part 1 Assignments"
      ]
    },
    {
      "metadata": {
        "id": "eCOgOSARdtsX",
        "colab_type": "text"
      },
      "cell_type": "markdown",
      "source": [
        "1. Understand number and answer the following question.\n",
        "  1. Assign to 10 and 2 on two variables 'a' and 'b' and perform addition, subtraction, multiplication, division and modulo operation. You should properly print answer during each operation."
      ]
    },
    {
      "metadata": {
        "id": "jrg4iBQ-epaY",
        "colab_type": "code",
        "colab": {
          "base_uri": "https://localhost:8080/",
          "height": 106
        },
        "outputId": "f37cc3a9-34b9-4e84-ec7f-75001e662322"
      },
      "cell_type": "code",
      "source": [
        "a = 10\n",
        "b = 2\n",
        "\n",
        "print('a*b = ', (a*b))\n",
        "print('a+b = ', (a+b))\n",
        "print('a-b = ', (a-b))\n",
        "print('a/b = ', (a/b))\n",
        "print('a%b = ', (a%b))\n"
      ],
      "execution_count": 7,
      "outputs": [
        {
          "output_type": "stream",
          "text": [
            "a*b =  20\n",
            "a+b =  12\n",
            "a-b =  8\n",
            "a/b =  5.0\n",
            "a%b =  0\n"
          ],
          "name": "stdout"
        }
      ]
    },
    {
      "metadata": {
        "id": "Pu-nFIeQe08e",
        "colab_type": "text"
      },
      "cell_type": "markdown",
      "source": [
        "2. Write different rules for naming a variable/identifier."
      ]
    },
    {
      "metadata": {
        "id": "EWlJFI2le_Ev",
        "colab_type": "code",
        "colab": {}
      },
      "cell_type": "code",
      "source": [
        "The first character of an identifier should either be an alphabet or underscore('_')\n",
        "The rest of the identifier name can contain alphabets, numbers or an underscore\n",
        "Identifier names are case sensitive\n"
      ],
      "execution_count": 0,
      "outputs": []
    },
    {
      "metadata": {
        "id": "RBzlvoyBfC0a",
        "colab_type": "text"
      },
      "cell_type": "markdown",
      "source": [
        "3.  Understand string and answer the following question.   \n",
        " 1. Assign 2 string on two variable and perform concatenation.\n",
        " 2. Assign a string in a variable and print the reverse of the string.\n",
        " 3. Assign 'lower' to a variable and convert it to upper case.\n",
        " 4. Assign 'school of ai' into a variable and split it into individual words\n",
        " 5. Assign 'school of ai' into a variable and find the starting index  of word 'ai'"
      ]
    },
    {
      "metadata": {
        "id": "NKgITA5IgGf9",
        "colab_type": "code",
        "colab": {
          "base_uri": "https://localhost:8080/",
          "height": 35
        },
        "outputId": "f015eec2-dffd-41a2-9f2a-027dab950f14"
      },
      "cell_type": "code",
      "source": [
        "s = 'Hello'\n",
        "y = 'World'\n",
        "print(s+y)"
      ],
      "execution_count": 8,
      "outputs": [
        {
          "output_type": "stream",
          "text": [
            "HelloWorld\n"
          ],
          "name": "stdout"
        }
      ]
    },
    {
      "metadata": {
        "id": "AiLVTn-jgJLx",
        "colab_type": "code",
        "colab": {
          "base_uri": "https://localhost:8080/",
          "height": 35
        },
        "outputId": "e5157b1f-d044-4762-b331-2fb9b18b782c"
      },
      "cell_type": "code",
      "source": [
        "r = 'RAM'\n",
        "print(r[::-1])"
      ],
      "execution_count": 13,
      "outputs": [
        {
          "output_type": "stream",
          "text": [
            "MAR\n"
          ],
          "name": "stdout"
        }
      ]
    },
    {
      "metadata": {
        "id": "HgCqxoczgJUo",
        "colab_type": "code",
        "colab": {
          "base_uri": "https://localhost:8080/",
          "height": 35
        },
        "outputId": "a89c3283-30ff-463e-c669-b54089a030da"
      },
      "cell_type": "code",
      "source": [
        "l = 'lower'\n",
        "print(l.upper())"
      ],
      "execution_count": 14,
      "outputs": [
        {
          "output_type": "stream",
          "text": [
            "LOWER\n"
          ],
          "name": "stdout"
        }
      ]
    },
    {
      "metadata": {
        "id": "xdbj1jW1gv_s",
        "colab_type": "code",
        "colab": {
          "base_uri": "https://localhost:8080/",
          "height": 71
        },
        "outputId": "a2afbbe1-1ebf-4979-d10f-8a05751c7d55"
      },
      "cell_type": "code",
      "source": [
        "p = 'school of ai'\n",
        "x,y,z = p.split()\n",
        "print(x)\n",
        "print(y)\n",
        "print(z)"
      ],
      "execution_count": 17,
      "outputs": [
        {
          "output_type": "stream",
          "text": [
            "school\n",
            "of\n",
            "ai\n"
          ],
          "name": "stdout"
        }
      ]
    },
    {
      "metadata": {
        "id": "etzffkuEhgTP",
        "colab_type": "code",
        "colab": {
          "base_uri": "https://localhost:8080/",
          "height": 35
        },
        "outputId": "7c3e3dcd-fbf9-4059-8b32-2e272b629a12"
      },
      "cell_type": "code",
      "source": [
        "p.index('ai')"
      ],
      "execution_count": 18,
      "outputs": [
        {
          "output_type": "execute_result",
          "data": {
            "text/plain": [
              "10"
            ]
          },
          "metadata": {
            "tags": []
          },
          "execution_count": 18
        }
      ]
    },
    {
      "metadata": {
        "colab_type": "text",
        "id": "ruHpADeRxOzD"
      },
      "cell_type": "markdown",
      "source": [
        "4.  Understand list and answer the following question.   \n",
        "  1. Create a list with values 10,20,30,40 and find its length and sum\n",
        "  2. Create a list with values 11,22,55. Pop the last element and store it in a variable called 'x'\n",
        "  3. Create a list with values 10,20,40 and insert 30 in index 2.\n",
        "  4. Create a list with values 'a','b','c' and remove 'b' from list\n",
        "  5. Create a list with values 5,'a','b','c',1,5. select values from index 1 to 3 and store it in a variable called 'alpha_list' using slicing."
      ]
    },
    {
      "metadata": {
        "colab_type": "code",
        "id": "uZp1uPLZxOzU",
        "colab": {
          "base_uri": "https://localhost:8080/",
          "height": 53
        },
        "outputId": "49761f82-3dcf-49a1-e523-6e1db187ae7e"
      },
      "cell_type": "code",
      "source": [
        "tex = [10,20,30,40]\n",
        "print(len(tex))\n",
        "print(sum(tex))"
      ],
      "execution_count": 22,
      "outputs": [
        {
          "output_type": "stream",
          "text": [
            "4\n",
            "100\n"
          ],
          "name": "stdout"
        }
      ]
    },
    {
      "metadata": {
        "colab_type": "code",
        "id": "-2OQGCp2xOzl",
        "colab": {
          "base_uri": "https://localhost:8080/",
          "height": 35
        },
        "outputId": "af7ffd86-c8ea-4c94-a62f-63327faf3b79"
      },
      "cell_type": "code",
      "source": [
        "v = [11,22,55]\n",
        "x = v[-1]\n",
        "x"
      ],
      "execution_count": 23,
      "outputs": [
        {
          "output_type": "execute_result",
          "data": {
            "text/plain": [
              "55"
            ]
          },
          "metadata": {
            "tags": []
          },
          "execution_count": 23
        }
      ]
    },
    {
      "metadata": {
        "colab_type": "code",
        "id": "RwXCwmxdxOzy",
        "colab": {
          "base_uri": "https://localhost:8080/",
          "height": 35
        },
        "outputId": "52f1ed4d-96e2-40c8-ab00-2137f4ff1153"
      },
      "cell_type": "code",
      "source": [
        "c = [10,20,40]\n",
        "c[2] = 30\n",
        "c"
      ],
      "execution_count": 24,
      "outputs": [
        {
          "output_type": "execute_result",
          "data": {
            "text/plain": [
              "[10, 20, 30]"
            ]
          },
          "metadata": {
            "tags": []
          },
          "execution_count": 24
        }
      ]
    },
    {
      "metadata": {
        "colab_type": "code",
        "id": "p-7wB7S-xOz6",
        "colab": {
          "base_uri": "https://localhost:8080/",
          "height": 35
        },
        "outputId": "141e3eea-bed1-42a9-ce59-297db570388f"
      },
      "cell_type": "code",
      "source": [
        "d = ['a', 'b', 'c']\n",
        "del d[1]\n",
        "d"
      ],
      "execution_count": 26,
      "outputs": [
        {
          "output_type": "execute_result",
          "data": {
            "text/plain": [
              "['a', 'c']"
            ]
          },
          "metadata": {
            "tags": []
          },
          "execution_count": 26
        }
      ]
    },
    {
      "metadata": {
        "colab_type": "code",
        "id": "1HelPyBhxO0E",
        "colab": {
          "base_uri": "https://localhost:8080/",
          "height": 35
        },
        "outputId": "0a8478c4-cb1f-4db9-cdec-f5d698d9aa81"
      },
      "cell_type": "code",
      "source": [
        "intial_list = [5,'a','b','c',1,5]\n",
        "intial_list"
      ],
      "execution_count": 29,
      "outputs": [
        {
          "output_type": "execute_result",
          "data": {
            "text/plain": [
              "[5, 'a', 'b', 'c', 1, 5]"
            ]
          },
          "metadata": {
            "tags": []
          },
          "execution_count": 29
        }
      ]
    },
    {
      "metadata": {
        "colab_type": "code",
        "id": "MJ7Xl3xGzHpb",
        "colab": {
          "base_uri": "https://localhost:8080/",
          "height": 35
        },
        "outputId": "04e03b47-7e1c-40f1-f84a-c4ac02955e39"
      },
      "cell_type": "code",
      "source": [
        "alpha_list = intial_list[1:3]\n",
        "alpha_list"
      ],
      "execution_count": 30,
      "outputs": [
        {
          "output_type": "execute_result",
          "data": {
            "text/plain": [
              "['a', 'b']"
            ]
          },
          "metadata": {
            "tags": []
          },
          "execution_count": 30
        }
      ]
    },
    {
      "metadata": {
        "colab_type": "text",
        "id": "UOLpFCOZzROl"
      },
      "cell_type": "markdown",
      "source": [
        "5.  Understand dictionary and answer the following question.   \n",
        "  1. Create a dict with key '1' and value 'odd', key '2' and value 'even'\n",
        "  2. Create a dict with key '1' and value 'odd', key '2' and value 'even' .Then replace 'even' of key 2 with 'EVEN'"
      ]
    },
    {
      "metadata": {
        "colab_type": "code",
        "id": "mbIBaszTzRO-",
        "colab": {
          "base_uri": "https://localhost:8080/",
          "height": 35
        },
        "outputId": "96b677a9-0edd-49d7-f894-8db716e2149f"
      },
      "cell_type": "code",
      "source": [
        "test_dict = {1: 'odd', 2: 'even'}\n",
        "test_dict"
      ],
      "execution_count": 31,
      "outputs": [
        {
          "output_type": "execute_result",
          "data": {
            "text/plain": [
              "{1: 'odd', 2: 'even'}"
            ]
          },
          "metadata": {
            "tags": []
          },
          "execution_count": 31
        }
      ]
    },
    {
      "metadata": {
        "colab_type": "code",
        "id": "uxux8opvzRPP",
        "colab": {
          "base_uri": "https://localhost:8080/",
          "height": 35
        },
        "outputId": "1f49a119-2466-4a66-c9e5-5c4ce95d4d84"
      },
      "cell_type": "code",
      "source": [
        "test_dict[2] = 'EVEN'\n",
        "test_dict"
      ],
      "execution_count": 32,
      "outputs": [
        {
          "output_type": "execute_result",
          "data": {
            "text/plain": [
              "{1: 'odd', 2: 'EVEN'}"
            ]
          },
          "metadata": {
            "tags": []
          },
          "execution_count": 32
        }
      ]
    }
  ]
}